{
 "cells": [
  {
   "cell_type": "markdown",
   "metadata": {},
   "source": [
    "# Data Science - Laboratorio 5\n",
    "## Minería de Texto: Clasificación de tweets \n",
    "- - -\n",
    "### Integrantes:\n",
    "- Diego Alberto Leiva 21752\n",
    "- José Pablo Orellana 21970\n",
    "- - -"
   ]
  },
  {
   "cell_type": "markdown",
   "metadata": {},
   "source": [
    "## Librerias"
   ]
  },
  {
   "cell_type": "markdown",
   "metadata": {},
   "source": [
    "NOTA: Importante tener el Token de la API en el folder `C:\\Users\\<Windows-username>\\.kaggle\\kaggle.json`\n",
    "\n",
    "Para una guia mas detallada o si tiene otro sistema dirigase a: https://www.kaggle.com/docs/api#getting-started-installation-&-authentication \n",
    "\n",
    "Asimismo puede visitar la documentacion oficial de la API: https://github.com/Kaggle/kaggle-api/tree/main/docs#api-credentials"
   ]
  },
  {
   "cell_type": "code",
   "execution_count": 1,
   "metadata": {},
   "outputs": [],
   "source": [
    "# Kaggle API\n",
    "import kaggle\n",
    "from kaggle.rest import ApiException\n",
    "\n",
    "# Operaciones con archivos\n",
    "import os\n",
    "import zipfile"
   ]
  },
  {
   "cell_type": "markdown",
   "metadata": {},
   "source": [
    "## Carga de Dataset"
   ]
  },
  {
   "cell_type": "markdown",
   "metadata": {},
   "source": [
    "### Descargar el archivo con Kaggle"
   ]
  },
  {
   "cell_type": "markdown",
   "metadata": {},
   "source": [
    "Puede omitir esta celda si decide descargar los archivos manualmente desde https://www.kaggle.com/c/nlp-getting-started/data"
   ]
  },
  {
   "cell_type": "code",
   "execution_count": 2,
   "metadata": {},
   "outputs": [
    {
     "name": "stdout",
     "output_type": "stream",
     "text": [
      "Downloading nlp-getting-started.zip to data\n"
     ]
    },
    {
     "name": "stderr",
     "output_type": "stream",
     "text": [
      "100%|██████████| 593k/593k [00:00<00:00, 1.06MB/s]"
     ]
    },
    {
     "name": "stdout",
     "output_type": "stream",
     "text": [
      "\n",
      "EXITO: Archivos descargados en 'data'\n"
     ]
    },
    {
     "name": "stderr",
     "output_type": "stream",
     "text": [
      "\n"
     ]
    }
   ],
   "source": [
    "# Autenticación con Kaggle API\n",
    "kaggle.api.authenticate()\n",
    "\n",
    "# Definir competencia y directorio de descarga\n",
    "competition_name = 'nlp-getting-started'\n",
    "target_path = 'data'\n",
    "\n",
    "# Descargar archivos de la competencia\n",
    "try:\n",
    "    kaggle.api.competition_download_files(competition='nlp-getting-started',\n",
    "                                          path='data',\n",
    "                                          quiet=False,\n",
    "                                          force=False)\n",
    "    \n",
    "    print(f\"EXITO: Archivos descargados en '{target_path}'\")\n",
    "\n",
    "except ApiException as e:\n",
    "    print(f\"ERROR al llamar KaggleApi -> competition_download \\n\\t{e}\")\n",
    "    print(\"Puede que necesite aceptar las reglas de la competencia en https://www.kaggle.com/c/nlp-getting-started/rules\")"
   ]
  },
  {
   "cell_type": "markdown",
   "metadata": {},
   "source": [
    "### Descomprimir el Zip"
   ]
  },
  {
   "cell_type": "markdown",
   "metadata": {},
   "source": [
    "Puede omitir esta celda si ya tiene los archivos descomprimidos"
   ]
  },
  {
   "cell_type": "code",
   "execution_count": 3,
   "metadata": {},
   "outputs": [
    {
     "name": "stdout",
     "output_type": "stream",
     "text": [
      "EXITO: Archivo .zip descomprimido en 'data'\n"
     ]
    }
   ],
   "source": [
    "try:\n",
    "    # Verificar si se descargó un archivo .zip y descomprimirlo\n",
    "    if os.path.exists(f\"{target_path}/{competition_name}.zip\"):\n",
    "        # Descomprimir archivo .zip\n",
    "        with zipfile.ZipFile(f'{target_path}/{competition_name}.zip', 'r') as zip_ref:\n",
    "            zip_ref.extractall(target_path)\n",
    "\n",
    "        # Eliminar archivo .zip\n",
    "        os.remove(f'{target_path}/{competition_name}.zip')\n",
    "        os.remove(f'{target_path}/sample_submission.csv')\n",
    "        print(f\"EXITO: Archivo .zip descomprimido en '{target_path}'\")\n",
    "    else:\n",
    "        Exception(f\"No se encontró archivo .zip en '{target_path}'\")\n",
    "except Exception as e:\n",
    "    print(f\"ERROR al descomprimir archivo .zip \\n\\t{e}\")"
   ]
  }
 ],
 "metadata": {
  "kernelspec": {
   "display_name": "DataScience_DL",
   "language": "python",
   "name": "python3"
  },
  "language_info": {
   "codemirror_mode": {
    "name": "ipython",
    "version": 3
   },
   "file_extension": ".py",
   "mimetype": "text/x-python",
   "name": "python",
   "nbconvert_exporter": "python",
   "pygments_lexer": "ipython3",
   "version": "3.12.3"
  }
 },
 "nbformat": 4,
 "nbformat_minor": 2
}
