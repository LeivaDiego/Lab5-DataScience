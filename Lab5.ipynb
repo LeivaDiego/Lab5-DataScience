{
 "cells": [
  {
   "cell_type": "markdown",
   "metadata": {},
   "source": [
    "# Data Science - Laboratorio 5\n",
    "## Minería de Texto: Clasificación de tweets \n",
    "- - -\n",
    "### Integrantes:\n",
    "- Diego Alberto Leiva 21752\n",
    "- José Pablo Orellana 21970\n",
    "- - -"
   ]
  },
  {
   "cell_type": "markdown",
   "metadata": {},
   "source": [
    "## Librerias"
   ]
  },
  {
   "cell_type": "markdown",
   "metadata": {},
   "source": [
    "NOTA: Importante tener el Token de la API en el folder `C:\\Users\\<Windows-username>\\.kaggle\\kaggle.json`\n",
    "\n",
    "Para una guia mas detallada o si tiene otro sistema dirigase a: https://www.kaggle.com/docs/api#getting-started-installation-&-authentication \n",
    "\n",
    "Asimismo puede visitar la documentacion oficial de la API: https://github.com/Kaggle/kaggle-api/tree/main/docs#api-credentials"
   ]
  },
  {
   "cell_type": "code",
   "execution_count": 1,
   "metadata": {},
   "outputs": [],
   "source": [
    "# Kaggle API\n",
    "import kaggle\n",
    "from kaggle.rest import ApiException\n",
    "\n",
    "# Operaciones con archivos\n",
    "import os\n",
    "import zipfile\n",
    "\n",
    "# Operaciones con datos\n",
    "import pandas as pd\n",
    "\n",
    "# Visualización de datos\n",
    "import matplotlib.pyplot as plt\n",
    "import seaborn as sns"
   ]
  },
  {
   "cell_type": "markdown",
   "metadata": {},
   "source": [
    "## Carga de Dataset"
   ]
  },
  {
   "cell_type": "markdown",
   "metadata": {},
   "source": [
    "### Descargar el archivo con Kaggle"
   ]
  },
  {
   "cell_type": "markdown",
   "metadata": {},
   "source": [
    "Puede omitir esta celda si decide descargar los archivos manualmente desde https://www.kaggle.com/c/nlp-getting-started/data"
   ]
  },
  {
   "cell_type": "code",
   "execution_count": 2,
   "metadata": {},
   "outputs": [
    {
     "name": "stdout",
     "output_type": "stream",
     "text": [
      "AVISO: Se encontraron archivos descargados previamente\n",
      "\tSi desea descargar nuevamente los archivos, elimine 'data/nlp-getting-started.zip'\n"
     ]
    }
   ],
   "source": [
    "# Autenticación con Kaggle API\n",
    "kaggle.api.authenticate()\n",
    "\n",
    "# Definir competencia y directorio de descarga\n",
    "competition_name = 'nlp-getting-started'\n",
    "target_path = 'data'\n",
    "\n",
    "# Verificar si existen archivos descargados previamente\n",
    "if  not os.path.exists(f\"{target_path}/train.csv\") and not os.path.exists(f\"{target_path}/test.csv\"):\n",
    "    # Descargar archivos de la competencia\n",
    "    try:\n",
    "        kaggle.api.competition_download_files(competition='nlp-getting-started',\n",
    "                                            path='data',\n",
    "                                            quiet=False,\n",
    "                                            force=False)\n",
    "        \n",
    "        print(f\"EXITO: Archivos descargados en '{target_path}'\")\n",
    "\n",
    "    except ApiException as e:\n",
    "        print(f\"ERROR al llamar KaggleApi -> competition_download \\n\\t{e}\")\n",
    "        print(\"Puede que necesite aceptar las reglas de la competencia en https://www.kaggle.com/c/nlp-getting-started/rules\")\n",
    "else:\n",
    "    print(\"AVISO: Se encontraron archivos descargados previamente\")\n",
    "    print(f\"\\tSi desea descargar nuevamente los archivos, elimine '{target_path}/{competition_name}.zip'\")"
   ]
  },
  {
   "cell_type": "markdown",
   "metadata": {},
   "source": [
    "### Descomprimir el Zip"
   ]
  },
  {
   "cell_type": "markdown",
   "metadata": {},
   "source": [
    "Puede omitir esta celda si ya tiene los archivos descomprimidos"
   ]
  },
  {
   "cell_type": "code",
   "execution_count": 3,
   "metadata": {},
   "outputs": [
    {
     "name": "stdout",
     "output_type": "stream",
     "text": [
      "AVISO: Se encontraron archivos descargados previamente\n",
      "\tOmitiendo descompresión de archivos .zip\n"
     ]
    }
   ],
   "source": [
    "# Verificar si ya se descomprimieron los archivos .zip previamente\n",
    "if  os.path.exists(f\"{target_path}/train.csv\") and os.path.exists(f\"{target_path}/test.csv\"):\n",
    "    print(\"AVISO: Se encontraron archivos descargados previamente\")\n",
    "    print(\"\\tOmitiendo descompresión de archivos .zip\")\n",
    "\n",
    "# Descomprimir archivos .zip\n",
    "else:\n",
    "    try:\n",
    "        # Verificar si se descargó un archivo .zip y descomprimirlo\n",
    "        if os.path.exists(f\"{target_path}/{competition_name}.zip\"):\n",
    "            # Descomprimir archivo .zip\n",
    "            with zipfile.ZipFile(f'{target_path}/{competition_name}.zip', 'r') as zip_ref:\n",
    "                zip_ref.extractall(target_path)\n",
    "\n",
    "            # Eliminar archivo .zip\n",
    "            os.remove(f'{target_path}/{competition_name}.zip')\n",
    "            os.remove(f'{target_path}/sample_submission.csv')\n",
    "            print(f\"EXITO: Archivo .zip descomprimido en '{target_path}'\")\n",
    "        else:\n",
    "            raise Exception(f\"No se encontró archivo .zip en '{target_path}'\")\n",
    "\n",
    "    except Exception as e:\n",
    "        print(f\"ERROR al descomprimir archivo .zip \\n\\t{e}\")"
   ]
  },
  {
   "cell_type": "markdown",
   "metadata": {},
   "source": [
    "### Generar dataframes"
   ]
  },
  {
   "cell_type": "code",
   "execution_count": 4,
   "metadata": {},
   "outputs": [],
   "source": [
    "# Cargar archivos en DataFrames\n",
    "train_df = pd.read_csv('data/train.csv')\n",
    "test_df = pd.read_csv('data/test.csv')"
   ]
  },
  {
   "cell_type": "markdown",
   "metadata": {},
   "source": [
    "## Comprensión Inicial"
   ]
  },
  {
   "cell_type": "markdown",
   "metadata": {},
   "source": [
    "### Información General del Dataset"
   ]
  },
  {
   "cell_type": "code",
   "execution_count": 5,
   "metadata": {},
   "outputs": [],
   "source": [
    "def get_DF_info(df):\n",
    "    \"\"\"\n",
    "    Función que genera un dataframe con información sobre las columnas de un dataframe dado.\n",
    "\n",
    "    Args:\n",
    "        df (pandas.DataFrame): El dataframe de entrada.\n",
    "        \n",
    "    Returns:\n",
    "        None\n",
    "    \"\"\"\n",
    "    # Crear un dataframe con la información de las columnas    \n",
    "    info = pd.DataFrame({\n",
    "        'Nombre Columna': df.columns,\n",
    "        'Tipo de Dato': df.dtypes,\n",
    "        'Valores Nulos (%)': (df.isnull().sum() * 100 / df.shape[0]).round(2),\n",
    "        'Valores Únicos': df.nunique(),\n",
    "        'Valores Duplicados': df.duplicated().sum()\n",
    "    }).reset_index(drop=True)\n",
    "\n",
    "    # Mostrar la informacion\n",
    "    print(f\"\\nEl dataframe tiene {df.shape[0]} filas (registros) y {df.shape[1]} columnas (variables)\\n\")\n",
    "    display(info)"
   ]
  },
  {
   "cell_type": "code",
   "execution_count": 6,
   "metadata": {},
   "outputs": [
    {
     "name": "stdout",
     "output_type": "stream",
     "text": [
      "Informacion del dataset: train.csv\n",
      "\n",
      "El dataframe tiene 7613 filas (registros) y 5 columnas (variables)\n",
      "\n"
     ]
    },
    {
     "data": {
      "text/html": [
       "<div>\n",
       "<style scoped>\n",
       "    .dataframe tbody tr th:only-of-type {\n",
       "        vertical-align: middle;\n",
       "    }\n",
       "\n",
       "    .dataframe tbody tr th {\n",
       "        vertical-align: top;\n",
       "    }\n",
       "\n",
       "    .dataframe thead th {\n",
       "        text-align: right;\n",
       "    }\n",
       "</style>\n",
       "<table border=\"1\" class=\"dataframe\">\n",
       "  <thead>\n",
       "    <tr style=\"text-align: right;\">\n",
       "      <th></th>\n",
       "      <th>Nombre Columna</th>\n",
       "      <th>Tipo de Dato</th>\n",
       "      <th>Valores Nulos (%)</th>\n",
       "      <th>Valores Únicos</th>\n",
       "      <th>Valores Duplicados</th>\n",
       "    </tr>\n",
       "  </thead>\n",
       "  <tbody>\n",
       "    <tr>\n",
       "      <th>0</th>\n",
       "      <td>id</td>\n",
       "      <td>int64</td>\n",
       "      <td>0.00</td>\n",
       "      <td>7613</td>\n",
       "      <td>0</td>\n",
       "    </tr>\n",
       "    <tr>\n",
       "      <th>1</th>\n",
       "      <td>keyword</td>\n",
       "      <td>object</td>\n",
       "      <td>0.80</td>\n",
       "      <td>221</td>\n",
       "      <td>0</td>\n",
       "    </tr>\n",
       "    <tr>\n",
       "      <th>2</th>\n",
       "      <td>location</td>\n",
       "      <td>object</td>\n",
       "      <td>33.27</td>\n",
       "      <td>3341</td>\n",
       "      <td>0</td>\n",
       "    </tr>\n",
       "    <tr>\n",
       "      <th>3</th>\n",
       "      <td>text</td>\n",
       "      <td>object</td>\n",
       "      <td>0.00</td>\n",
       "      <td>7503</td>\n",
       "      <td>0</td>\n",
       "    </tr>\n",
       "    <tr>\n",
       "      <th>4</th>\n",
       "      <td>target</td>\n",
       "      <td>int64</td>\n",
       "      <td>0.00</td>\n",
       "      <td>2</td>\n",
       "      <td>0</td>\n",
       "    </tr>\n",
       "  </tbody>\n",
       "</table>\n",
       "</div>"
      ],
      "text/plain": [
       "  Nombre Columna Tipo de Dato  Valores Nulos (%)  Valores Únicos  \\\n",
       "0             id        int64               0.00            7613   \n",
       "1        keyword       object               0.80             221   \n",
       "2       location       object              33.27            3341   \n",
       "3           text       object               0.00            7503   \n",
       "4         target        int64               0.00               2   \n",
       "\n",
       "   Valores Duplicados  \n",
       "0                   0  \n",
       "1                   0  \n",
       "2                   0  \n",
       "3                   0  \n",
       "4                   0  "
      ]
     },
     "metadata": {},
     "output_type": "display_data"
    }
   ],
   "source": [
    "print(f\"Informacion del dataset: train.csv\")\n",
    "get_DF_info(df=train_df)"
   ]
  },
  {
   "cell_type": "markdown",
   "metadata": {},
   "source": [
    "Como era de esperarse la variable `id` tiene un valor diferente por cada registro, por lo tanto no es relevante para esta práctica.\n",
    "\n",
    "La variable objetivo `target` unicamente tiene 2 valores.\n",
    "\n",
    "El conjunto de datos de entrenamiento tiene 2 variables que presentan valores nulos:\n",
    "- `keyword`: Apenas un 0.8% de los registros totales son nulos.\n",
    "- `location`: Mas del 33% de los registros totales son nulos.\n",
    "\n",
    "Por lo tanto sera necesario analizar con detenimiento como manejar estas variables."
   ]
  },
  {
   "cell_type": "markdown",
   "metadata": {},
   "source": [
    "### Visualizar Dataframe"
   ]
  },
  {
   "cell_type": "code",
   "execution_count": 7,
   "metadata": {},
   "outputs": [
    {
     "data": {
      "text/html": [
       "<div>\n",
       "<style scoped>\n",
       "    .dataframe tbody tr th:only-of-type {\n",
       "        vertical-align: middle;\n",
       "    }\n",
       "\n",
       "    .dataframe tbody tr th {\n",
       "        vertical-align: top;\n",
       "    }\n",
       "\n",
       "    .dataframe thead th {\n",
       "        text-align: right;\n",
       "    }\n",
       "</style>\n",
       "<table border=\"1\" class=\"dataframe\">\n",
       "  <thead>\n",
       "    <tr style=\"text-align: right;\">\n",
       "      <th></th>\n",
       "      <th>id</th>\n",
       "      <th>keyword</th>\n",
       "      <th>location</th>\n",
       "      <th>text</th>\n",
       "      <th>target</th>\n",
       "    </tr>\n",
       "  </thead>\n",
       "  <tbody>\n",
       "    <tr>\n",
       "      <th>0</th>\n",
       "      <td>1</td>\n",
       "      <td>NaN</td>\n",
       "      <td>NaN</td>\n",
       "      <td>Our Deeds are the Reason of this #earthquake M...</td>\n",
       "      <td>1</td>\n",
       "    </tr>\n",
       "    <tr>\n",
       "      <th>1</th>\n",
       "      <td>4</td>\n",
       "      <td>NaN</td>\n",
       "      <td>NaN</td>\n",
       "      <td>Forest fire near La Ronge Sask. Canada</td>\n",
       "      <td>1</td>\n",
       "    </tr>\n",
       "    <tr>\n",
       "      <th>2</th>\n",
       "      <td>5</td>\n",
       "      <td>NaN</td>\n",
       "      <td>NaN</td>\n",
       "      <td>All residents asked to 'shelter in place' are ...</td>\n",
       "      <td>1</td>\n",
       "    </tr>\n",
       "    <tr>\n",
       "      <th>3</th>\n",
       "      <td>6</td>\n",
       "      <td>NaN</td>\n",
       "      <td>NaN</td>\n",
       "      <td>13,000 people receive #wildfires evacuation or...</td>\n",
       "      <td>1</td>\n",
       "    </tr>\n",
       "    <tr>\n",
       "      <th>4</th>\n",
       "      <td>7</td>\n",
       "      <td>NaN</td>\n",
       "      <td>NaN</td>\n",
       "      <td>Just got sent this photo from Ruby #Alaska as ...</td>\n",
       "      <td>1</td>\n",
       "    </tr>\n",
       "  </tbody>\n",
       "</table>\n",
       "</div>"
      ],
      "text/plain": [
       "   id keyword location                                               text  \\\n",
       "0   1     NaN      NaN  Our Deeds are the Reason of this #earthquake M...   \n",
       "1   4     NaN      NaN             Forest fire near La Ronge Sask. Canada   \n",
       "2   5     NaN      NaN  All residents asked to 'shelter in place' are ...   \n",
       "3   6     NaN      NaN  13,000 people receive #wildfires evacuation or...   \n",
       "4   7     NaN      NaN  Just got sent this photo from Ruby #Alaska as ...   \n",
       "\n",
       "   target  \n",
       "0       1  \n",
       "1       1  \n",
       "2       1  \n",
       "3       1  \n",
       "4       1  "
      ]
     },
     "execution_count": 7,
     "metadata": {},
     "output_type": "execute_result"
    }
   ],
   "source": [
    "train_df.head()"
   ]
  },
  {
   "cell_type": "markdown",
   "metadata": {},
   "source": [
    "### Identificación de Variables"
   ]
  },
  {
   "cell_type": "markdown",
   "metadata": {},
   "source": [
    "- `id` - Un identificador unico para cada tweet.\n",
    "- `text` - El texto del tweet.\n",
    "- `location` - La ubicación desde donde fue enviado el tweet.\n",
    "- `keyword` - Una palabre clave del tweet.\n",
    "- `target` - Etiqueta que denota si un tweet es sobre un desastre real o no"
   ]
  },
  {
   "cell_type": "markdown",
   "metadata": {},
   "source": [
    "## Preprocesamiento y Limpieza"
   ]
  },
  {
   "cell_type": "markdown",
   "metadata": {},
   "source": [
    "### Valores Nulos"
   ]
  },
  {
   "cell_type": "markdown",
   "metadata": {},
   "source": [
    "#### Verificación valores nulos"
   ]
  },
  {
   "cell_type": "code",
   "execution_count": 8,
   "metadata": {},
   "outputs": [
    {
     "data": {
      "image/png": "[encoded data removed]",
      "text/plain": [
       "<Figure size 1000x600 with 1 Axes>"
      ]
     },
     "metadata": {},
     "output_type": "display_data"
    }
   ],
   "source": [
    "# Visualización de los datos faltantes en el conjunto de entrenamiento\n",
    "plt.figure(figsize=(10, 6))\n",
    "sns.heatmap(train_df.isnull(), cbar=False, cmap=\"viridis\")\n",
    "plt.title(\"Visualización de Datos Faltantes - Conjunto de Entrenamiento\")\n",
    "plt.show()"
   ]
  },
  {
   "cell_type": "markdown",
   "metadata": {},
   "source": [
    "Ese gráfico muestra que son muy pocos datos nulos en la variable `keyword`, sin embargo para la variable `location` si es mas visible la falta de datos corroborando que hay mas del 30% de datos nulos."
   ]
  },
  {
   "cell_type": "markdown",
   "metadata": {},
   "source": [
    "#### Análisis de Impacto de nulos"
   ]
  },
  {
   "cell_type": "code",
   "execution_count": 9,
   "metadata": {},
   "outputs": [
    {
     "data": {
      "text/html": [
       "<div>\n",
       "<style scoped>\n",
       "    .dataframe tbody tr th:only-of-type {\n",
       "        vertical-align: middle;\n",
       "    }\n",
       "\n",
       "    .dataframe tbody tr th {\n",
       "        vertical-align: top;\n",
       "    }\n",
       "\n",
       "    .dataframe thead th {\n",
       "        text-align: right;\n",
       "    }\n",
       "</style>\n",
       "<table border=\"1\" class=\"dataframe\">\n",
       "  <thead>\n",
       "    <tr style=\"text-align: right;\">\n",
       "      <th></th>\n",
       "      <th>Escenario</th>\n",
       "      <th>Conteo</th>\n",
       "      <th>Porcentaje conservado (%)</th>\n",
       "    </tr>\n",
       "  </thead>\n",
       "  <tbody>\n",
       "    <tr>\n",
       "      <th>0</th>\n",
       "      <td>Original</td>\n",
       "      <td>7613</td>\n",
       "      <td>100.000000</td>\n",
       "    </tr>\n",
       "    <tr>\n",
       "      <th>1</th>\n",
       "      <td>Eliminando nulos de (keyword)</td>\n",
       "      <td>7552</td>\n",
       "      <td>99.198739</td>\n",
       "    </tr>\n",
       "    <tr>\n",
       "      <th>2</th>\n",
       "      <td>Eliminando nulos de (location)</td>\n",
       "      <td>5080</td>\n",
       "      <td>66.727965</td>\n",
       "    </tr>\n",
       "    <tr>\n",
       "      <th>3</th>\n",
       "      <td>Eliminando todos los nulos</td>\n",
       "      <td>5080</td>\n",
       "      <td>66.727965</td>\n",
       "    </tr>\n",
       "  </tbody>\n",
       "</table>\n",
       "</div>"
      ],
      "text/plain": [
       "                        Escenario  Conteo  Porcentaje conservado (%)\n",
       "0                        Original    7613                 100.000000\n",
       "1   Eliminando nulos de (keyword)    7552                  99.198739\n",
       "2  Eliminando nulos de (location)    5080                  66.727965\n",
       "3      Eliminando todos los nulos    5080                  66.727965"
      ]
     },
     "metadata": {},
     "output_type": "display_data"
    }
   ],
   "source": [
    "# Contar y calcular el porcentaje de registros conservados después de la eliminación de nulos\n",
    "# Total de registros inicial\n",
    "initial_count = train_df.shape[0]\n",
    "\n",
    "# Eliminación de registros con valores nulos en keyword o location\n",
    "dropna_keyword = train_df.dropna(subset=['keyword'])\n",
    "dropna_location = train_df.dropna(subset=['location'])\n",
    "dropna_both = train_df.dropna()\n",
    "\n",
    "# Eliminación de registros con nulos en keyword, location, y ambos\n",
    "dropna_keyword_count = dropna_keyword.shape[0]\n",
    "dropna_location_count = dropna_location.shape[0]\n",
    "dropna_both_count = dropna_both.shape[0]\n",
    "\n",
    "# Cálculo de porcentajes conservados\n",
    "dropna_keyword_pct = (dropna_keyword_count / initial_count) * 100\n",
    "dropna_location_pct = (dropna_location_count / initial_count) * 100\n",
    "dropna_both_pct = (dropna_both_count / initial_count) * 100\n",
    "\n",
    "# Resultados del análisis\n",
    "simplified_impact_analysis = pd.DataFrame({\n",
    "    'Escenario': ['Original', 'Eliminando nulos de (keyword)', 'Eliminando nulos de (location)', 'Eliminando todos los nulos'],\n",
    "    'Conteo': [initial_count, dropna_keyword_count, dropna_location_count, dropna_both_count],\n",
    "    'Porcentaje conservado (%)': [100, dropna_keyword_pct, dropna_location_pct, dropna_both_pct]\n",
    "})\n",
    "\n",
    "display(simplified_impact_analysis)"
   ]
  },
  {
   "cell_type": "markdown",
   "metadata": {},
   "source": [
    "Estos resultados muestran que eliminar los registros nulos tiene un impacto significativo en el tamaño del conjunto de datos. Al eliminar los nulos de `location` desafortunadamente solo se convervan el 66% de los datos originales. Por lo tanto se ha decidido eliminar la variable ya que la imputación de valores no es una alternativa recomendable para este caso.\n",
    "\n",
    "Por otro lado eliminar los registros nulos de `keyword` tienen un impacto de menos del 1%, por lo que es preferible preder ese ~1% que perder una variable entera con palabras clave de los tweets."
   ]
  },
  {
   "cell_type": "markdown",
   "metadata": {},
   "source": [
    "#### Manejo de Nulos"
   ]
  },
  {
   "cell_type": "code",
   "execution_count": 10,
   "metadata": {},
   "outputs": [
    {
     "name": "stdout",
     "output_type": "stream",
     "text": [
      "Datos faltantes en el conjunto de entrenamiento:\n",
      "id         0\n",
      "keyword    0\n",
      "text       0\n",
      "target     0\n",
      "dtype: int64\n"
     ]
    }
   ],
   "source": [
    "# Eliminar variable 'location'\n",
    "train_df.drop(columns=['location'], inplace=True)\n",
    "\n",
    "# Eliminar registros con valores nulos en 'keyword'\n",
    "train_df.dropna(subset=['keyword'], inplace=True)\n",
    "\n",
    "# Verificar si se eliminaron los registros con valores nulos\n",
    "print(\"Datos faltantes en el conjunto de entrenamiento:\")\n",
    "print(train_df.isnull().sum())"
   ]
  }
 ],
 "metadata": {
  "kernelspec": {
   "display_name": "DataScience_DL",
   "language": "python",
   "name": "python3"
  },
  "language_info": {
   "codemirror_mode": {
    "name": "ipython",
    "version": 3
   },
   "file_extension": ".py",
   "mimetype": "text/x-python",
   "name": "python",
   "nbconvert_exporter": "python",
   "pygments_lexer": "ipython3",
   "version": "3.12.3"
  }
 },
 "nbformat": 4,
 "nbformat_minor": 2
}
